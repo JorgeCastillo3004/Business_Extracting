{
 "cells": [
  {
   "cell_type": "code",
   "execution_count": 52,
   "id": "431b47d0",
   "metadata": {},
   "outputs": [
    {
     "name": "stdout",
     "output_type": "stream",
     "text": [
      "The autoreload extension is already loaded. To reload it, use:\n",
      "  %reload_ext autoreload\n"
     ]
    }
   ],
   "source": [
    "from selenium.webdriver.support import expected_conditions as EC\n",
    "from selenium.webdriver.support.ui import WebDriverWait\n",
    "from selenium.webdriver.chrome.options import Options\n",
    "from selenium.webdriver.chrome.service import Service\n",
    "from selenium.webdriver.support.ui import Select\n",
    "from selenium.webdriver.common.keys import Keys\n",
    "from selenium.webdriver.common.by import By\n",
    "from selenium.webdriver.support.ui import Select\n",
    "import chromedriver_autoinstaller\n",
    "from selenium import webdriver\n",
    "from datetime import datetime\n",
    "import pandas as pd\n",
    "import random\n",
    "import time\n",
    "import json\n",
    "import re\n",
    "import os\n",
    "from selenium.webdriver.support.ui import Select\n",
    "from datetime import date, timedelta\n",
    "import string\n",
    "\n",
    "from common_functions2 import *\n",
    "\n",
    "# from main import *\n",
    "\n",
    "# Load the autoreload extension\n",
    "%load_ext autoreload\n",
    "\n",
    "# Enable autoreload for all modules\n",
    "%autoreload 2\n",
    "\n",
    "\n",
    "# from flashcore_extraction import *"
   ]
  },
  {
   "cell_type": "code",
   "execution_count": 4,
   "id": "71be267f",
   "metadata": {},
   "outputs": [],
   "source": [
    "driver = launch_navigator('https://www.yelp.co.uk/', headless=False)"
   ]
  },
  {
   "cell_type": "code",
   "execution_count": 53,
   "id": "4602b118",
   "metadata": {},
   "outputs": [
    {
     "name": "stdout",
     "output_type": "stream",
     "text": [
      "common_functions.py  __pycache__  search_settings.json\tyel_website.ipynb\r\n"
     ]
    },
    {
     "ename": "NameError",
     "evalue": "name 'stop' is not defined",
     "output_type": "error",
     "traceback": [
      "\u001b[0;31m---------------------------------------------------------------------------\u001b[0m",
      "\u001b[0;31mNameError\u001b[0m                                 Traceback (most recent call last)",
      "Cell \u001b[0;32mIn [53], line 7\u001b[0m\n\u001b[1;32m      5\u001b[0m \u001b[38;5;28;01mfor\u001b[39;00m city \u001b[38;5;129;01min\u001b[39;00m search_settings[\u001b[38;5;124m'\u001b[39m\u001b[38;5;124mlocations\u001b[39m\u001b[38;5;124m'\u001b[39m]:\n\u001b[1;32m      6\u001b[0m     make_search(driver, category, city)\n\u001b[0;32m----> 7\u001b[0m     \u001b[38;5;28mprint\u001b[39m(stop)\n",
      "\u001b[0;31mNameError\u001b[0m: name 'stop' is not defined"
     ]
    }
   ],
   "source": [
    "!ls\n",
    "search_settings = load_json('search_settings.json')\n",
    "\n",
    "for category in search_settings['categories']:\n",
    "    for city in search_settings['locations']:\n",
    "        make_search(driver, category, city)\n",
    "        print(stop)"
   ]
  },
  {
   "cell_type": "code",
   "execution_count": 60,
   "id": "a546795a",
   "metadata": {},
   "outputs": [
    {
     "name": "stdout",
     "output_type": "stream",
     "text": [
      "10\n",
      "1. The Mayfair Chippy\n",
      "4.5 (513 reviews)\n",
      "Fish & Chips\n",
      "££\n",
      "Mayfair\n",
      "Open until 22:00\n",
      "“Great food with excellent waiter! I liked the way that the dining was laid out, with them providing us with complementary dishes on the house!” more\n"
     ]
    },
    {
     "ename": "NameError",
     "evalue": "name 'stotp' is not defined",
     "output_type": "error",
     "traceback": [
      "\u001b[0;31m---------------------------------------------------------------------------\u001b[0m",
      "\u001b[0;31mNameError\u001b[0m                                 Traceback (most recent call last)",
      "Cell \u001b[0;32mIn [60], line 8\u001b[0m\n\u001b[1;32m      6\u001b[0m     \u001b[38;5;28mprint\u001b[39m(block\u001b[38;5;241m.\u001b[39mtext)\n\u001b[1;32m      7\u001b[0m \u001b[38;5;66;03m# block.get_attribute('outerHTML')\u001b[39;00m\n\u001b[0;32m----> 8\u001b[0m     \u001b[38;5;28mprint\u001b[39m(stotp)\n",
      "\u001b[0;31mNameError\u001b[0m: name 'stotp' is not defined"
     ]
    }
   ],
   "source": [
    "# block = driver.find_element(By.CLASS_NAME, 'container__09f24__FeTO6.hoverable__09f24___UXLO.y-css-way87j')\n",
    "blocks = driver.find_elements(By.XPATH, '//div[@data-testid=\"serp-ia-card\"]')\n",
    "\n",
    "print(len(blocks))\n",
    "for block in blocks:\n",
    "    print(block.text)\n",
    "# block.get_attribute('outerHTML')\n",
    "    print(stotp)"
   ]
  },
  {
   "cell_type": "code",
   "execution_count": null,
   "id": "4c72b0f7",
   "metadata": {},
   "outputs": [],
   "source": []
  },
  {
   "cell_type": "code",
   "execution_count": null,
   "id": "317af67d",
   "metadata": {},
   "outputs": [],
   "source": [
    "# wait until element staleness\n",
    "wait.until(EC.staleness_of(initial_element))\n",
    "\n",
    "\n",
    "# ZOOM ADJUSTMENTS\n",
    "driver.execute_script(\"document.body.style.zoom='50%'\")\n",
    "\n",
    "# find option and get not empty option\n",
    "options = driver.find_elements(By.XPATH, '//li[label[text()=\"LIS : LIS PENDENS\"] ]')\n",
    "# filter options\n",
    "option = [option for option in options if option.text.strip() != ''][0] \n",
    "# send escape key\n",
    "webdriver.ActionChains(driver).send_keys(Keys.ESCAPE).perform()\n",
    "\n",
    "\n",
    "################################################ WAIT DRIVER COMMAND #####################################################\n",
    "wait = WebDriverWait(driver, 10)\n",
    "row = wait.until(EC.presence_of_all_elements_located((By.XPATH, xpath_expression)))\n",
    "\n",
    "# way to find a form with specid div text, only get one element.\n",
    "form = driver.find_elements(By.XPATH, '//form[.//div/div[text()=\"Document Type\"]]')\n",
    "\n",
    "##################### wait until block ####################################\n",
    "###################### diferencia usando contains ##########################################\n",
    "xpath_expression = '//button[@id=\"acceptDataDisclaimer\" and text()=\"Agree\"]' # \n",
    "xpath_expression = '//button[contains(@id,\"acceptDataDisclaimer\") and contains(text(),\"Agree\")]' # \n",
    "############################################################################################\n",
    "# block with combinations of conditions\n",
    "xpath_expression = \"//table[contains(., 'Owner(s)')]\"\n",
    "xpath_expression = '//fieldset[legend[contains(text(), \"Return Address\")]]'  # expression with condition about inside tag\n",
    "xpath_expression = f\"//*[contains(@class, 'input-group') and .//*[@id='OwnerName']]\"\n",
    "search_block = driver.find_element(By.XPATH, xpath_expression)\n",
    "\n",
    "CLASS_SEARCH =  \"//input[contains(@class, 'ui-autocomplete-input') and contains(., '{}')]\".format(option)\n",
    "wait = WebDriverWait(driver, 10)\n",
    "element = wait.until(EC.element_to_be_clickable((By.XPATH, CLASS_SEARCH)))\n",
    "element = wait.until(EC.visibility_of_element_located((By.CLASS_NAME, \"my-element\")))\n",
    "options = wait.until(EC.presence_of_all_elements_located((By.XPATH, xpath_expression)))\n",
    "wait.until(EC.title_contains(\"New Page Title\"))\n",
    "wait.until(EC.alert_is_present())\n",
    "element = wait.until(EC.text_to_be_present_in_element((By.ID, \"myElement\"), \"Expected Text\"))\n",
    "\n",
    "# Send key delete \n",
    "box_text.send_keys(Keys.BACKSPACE*len(box_text.text))\n",
    "# command line to send ESCAPE KEY\n",
    "webdriver.ActionChains(driver).send_keys(Keys.ESCAPE).perform()\n",
    "\n",
    "# Page down pag up\n",
    "webdriver.ActionChains(driver).send_keys(Keys.PAGE_DOWN).perform()\n",
    "webdriver.ActionChains(driver).send_keys(Keys.PAGE_UP).perform()\n",
    "\n",
    "# not working\n",
    "webdriver.ActionChains(driver).send_keys(Keys.CONTROL + Keys.SUBTRACT).perform()\n",
    "\n"
   ]
  },
  {
   "cell_type": "code",
   "execution_count": null,
   "id": "55c5501b",
   "metadata": {},
   "outputs": [],
   "source": []
  }
 ],
 "metadata": {
  "kernelspec": {
   "display_name": "whatsappbot",
   "language": "python",
   "name": "whatsappbot"
  },
  "language_info": {
   "codemirror_mode": {
    "name": "ipython",
    "version": 3
   },
   "file_extension": ".py",
   "mimetype": "text/x-python",
   "name": "python",
   "nbconvert_exporter": "python",
   "pygments_lexer": "ipython3",
   "version": "3.10.12"
  }
 },
 "nbformat": 4,
 "nbformat_minor": 5
}
